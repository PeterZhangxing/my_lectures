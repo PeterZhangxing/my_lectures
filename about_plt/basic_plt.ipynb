{
 "cells": [
  {
   "cell_type": "markdown",
   "metadata": {},
   "source": [
    "### 掌握了基本的数据分析方法之后，相信大家都希望能够将数据可视化，特别是客户只能理解图片，\n",
    "### 看不懂也不想自己去费力去理解分析得出的数据，所以画图就显得很重要了，往往也是数据分析的最后一步。\n",
    "### 现在市面上有很多成熟的画图工具，特别是利用js在前端绘制美轮美奂的图像，而且很多还是动态的，\n",
    "### 有兴趣的同学可以自行搜索echart等进行学习，我们在这里只讲解如何利用python的matplotlib库绘制基本，\n",
    "### 但实用的几种基本图像。"
   ]
  },
  {
   "cell_type": "code",
   "execution_count": null,
   "metadata": {},
   "outputs": [],
   "source": []
  }
 ],
 "metadata": {
  "kernelspec": {
   "display_name": "Python 3",
   "language": "python",
   "name": "python3"
  },
  "language_info": {
   "codemirror_mode": {
    "name": "ipython",
    "version": 3
   },
   "file_extension": ".py",
   "mimetype": "text/x-python",
   "name": "python",
   "nbconvert_exporter": "python",
   "pygments_lexer": "ipython3",
   "version": "3.7.0"
  }
 },
 "nbformat": 4,
 "nbformat_minor": 2
}
