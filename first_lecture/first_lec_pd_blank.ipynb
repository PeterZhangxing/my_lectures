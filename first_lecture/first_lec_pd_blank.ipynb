{
 "cells": [
  {
   "cell_type": "markdown",
   "metadata": {},
   "source": [
    "### 为何要使用pandas来完成数据处理工作：\n",
    "- excel是功能非常强大的表格型数据处理工具，基本可以完成任何的数据处理分析工作，但是要完成稍微复杂的数据分析处理，操作也不简单，也难以对大量具有相同或类似表结构的表格完成批量化处理.\n",
    "- 此外对大量有关联的，却分布在不同excel文件中的表格，要进行连表分析，对于小白来说是非常复杂而痛苦的事情。\n",
    "- Python的pandas库可以很好的帮助我们使用较少的精力，顺利完成excel难以做到，或者实现过程非常复杂的数据分析操作。\n",
    "- 不过相对于excel，pandas的入门曲线稍显陡峭，毕竟要掌握一些基础的编程语法和思维方式，然而一旦入门，你将开启一道通往新世界的大门！\n",
    "\n",
    "#### 因为本课程是针对没有编程基础和经验的同学，我决一开始就讲解示例，通过在示例中穿插基础知识的方式，让大家没那么容易放弃.\n",
    "#### 好的，废话不多说，那就让我们进入到pandas的神奇世界之中："
   ]
  },
  {
   "cell_type": "markdown",
   "metadata": {},
   "source": [
    "### 示例一：股票数据分析\n",
    "- 获取某股票的历史行情数据。\n",
    "- 输出该股票所有收盘比开盘上涨3%以上的日期。\n",
    "- 输出该股票所有开盘比前日收盘跌幅超过2%的日期。\n",
    "- 假如我从2010年1月1日开始，每月第一个交易日买入1手股票，每年最后一个交易日卖出所有股票，到今天为止，我的收益如何？"
   ]
  },
  {
   "cell_type": "code",
   "execution_count": 1,
   "metadata": {},
   "outputs": [],
   "source": [
    "# 导入numpy,pandas库\n",
    "import numpy as np\n",
    "import pandas as pd"
   ]
  },
  {
   "cell_type": "code",
   "execution_count": 2,
   "metadata": {},
   "outputs": [
    {
     "data": {
      "text/html": [
       "<div>\n",
       "<style scoped>\n",
       "    .dataframe tbody tr th:only-of-type {\n",
       "        vertical-align: middle;\n",
       "    }\n",
       "\n",
       "    .dataframe tbody tr th {\n",
       "        vertical-align: top;\n",
       "    }\n",
       "\n",
       "    .dataframe thead th {\n",
       "        text-align: right;\n",
       "    }\n",
       "</style>\n",
       "<table border=\"1\" class=\"dataframe\">\n",
       "  <thead>\n",
       "    <tr style=\"text-align: right;\">\n",
       "      <th></th>\n",
       "      <th>Unnamed: 0</th>\n",
       "      <th>date</th>\n",
       "      <th>open</th>\n",
       "      <th>close</th>\n",
       "      <th>high</th>\n",
       "      <th>low</th>\n",
       "      <th>使用</th>\n",
       "      <th>code</th>\n",
       "    </tr>\n",
       "  </thead>\n",
       "  <tbody>\n",
       "    <tr>\n",
       "      <th>0</th>\n",
       "      <td>0</td>\n",
       "      <td>2001-08-27</td>\n",
       "      <td>5.392</td>\n",
       "      <td>5.554</td>\n",
       "      <td>5.902</td>\n",
       "      <td>5.132</td>\n",
       "      <td>406318.00</td>\n",
       "      <td>600519</td>\n",
       "    </tr>\n",
       "    <tr>\n",
       "      <th>1</th>\n",
       "      <td>1</td>\n",
       "      <td>2001-08-28</td>\n",
       "      <td>5.467</td>\n",
       "      <td>5.759</td>\n",
       "      <td>5.781</td>\n",
       "      <td>5.407</td>\n",
       "      <td>129647.79</td>\n",
       "      <td>600519</td>\n",
       "    </tr>\n",
       "    <tr>\n",
       "      <th>2</th>\n",
       "      <td>2</td>\n",
       "      <td>2001-08-29</td>\n",
       "      <td>5.777</td>\n",
       "      <td>5.684</td>\n",
       "      <td>5.781</td>\n",
       "      <td>5.640</td>\n",
       "      <td>53252.75</td>\n",
       "      <td>600519</td>\n",
       "    </tr>\n",
       "  </tbody>\n",
       "</table>\n",
       "</div>"
      ],
      "text/plain": [
       "   Unnamed: 0        date   open  close   high    low         使用    code\n",
       "0           0  2001-08-27  5.392  5.554  5.902  5.132  406318.00  600519\n",
       "1           1  2001-08-28  5.467  5.759  5.781  5.407  129647.79  600519\n",
       "2           2  2001-08-29  5.777  5.684  5.781  5.640   53252.75  600519"
      ]
     },
     "execution_count": 2,
     "metadata": {},
     "output_type": "execute_result"
    }
   ],
   "source": [
    "# 从保存在本地磁盘的csv文件中读取数据\n",
    "df = pd.read_csv('maotai.csv')\n",
    "# 查看数据格式\n",
    "df.head(3)"
   ]
  },
  {
   "cell_type": "markdown",
   "metadata": {},
   "source": [
    "### 1.从读取的原始数据中我们可以看到，有不需要的列'Unnamed: 0'，并且我们很希望把日期'date'这一列作为索引，以便后面的分析"
   ]
  },
  {
   "cell_type": "code",
   "execution_count": 3,
   "metadata": {},
   "outputs": [
    {
     "data": {
      "text/html": [
       "<div>\n",
       "<style scoped>\n",
       "    .dataframe tbody tr th:only-of-type {\n",
       "        vertical-align: middle;\n",
       "    }\n",
       "\n",
       "    .dataframe tbody tr th {\n",
       "        vertical-align: top;\n",
       "    }\n",
       "\n",
       "    .dataframe thead th {\n",
       "        text-align: right;\n",
       "    }\n",
       "</style>\n",
       "<table border=\"1\" class=\"dataframe\">\n",
       "  <thead>\n",
       "    <tr style=\"text-align: right;\">\n",
       "      <th></th>\n",
       "      <th>date</th>\n",
       "      <th>open</th>\n",
       "      <th>close</th>\n",
       "      <th>high</th>\n",
       "      <th>low</th>\n",
       "      <th>使用</th>\n",
       "      <th>code</th>\n",
       "    </tr>\n",
       "  </thead>\n",
       "  <tbody>\n",
       "    <tr>\n",
       "      <th>0</th>\n",
       "      <td>2001-08-27</td>\n",
       "      <td>5.392</td>\n",
       "      <td>5.554</td>\n",
       "      <td>5.902</td>\n",
       "      <td>5.132</td>\n",
       "      <td>406318.00</td>\n",
       "      <td>600519</td>\n",
       "    </tr>\n",
       "    <tr>\n",
       "      <th>1</th>\n",
       "      <td>2001-08-28</td>\n",
       "      <td>5.467</td>\n",
       "      <td>5.759</td>\n",
       "      <td>5.781</td>\n",
       "      <td>5.407</td>\n",
       "      <td>129647.79</td>\n",
       "      <td>600519</td>\n",
       "    </tr>\n",
       "    <tr>\n",
       "      <th>2</th>\n",
       "      <td>2001-08-29</td>\n",
       "      <td>5.777</td>\n",
       "      <td>5.684</td>\n",
       "      <td>5.781</td>\n",
       "      <td>5.640</td>\n",
       "      <td>53252.75</td>\n",
       "      <td>600519</td>\n",
       "    </tr>\n",
       "  </tbody>\n",
       "</table>\n",
       "</div>"
      ],
      "text/plain": [
       "         date   open  close   high    low         使用    code\n",
       "0  2001-08-27  5.392  5.554  5.902  5.132  406318.00  600519\n",
       "1  2001-08-28  5.467  5.759  5.781  5.407  129647.79  600519\n",
       "2  2001-08-29  5.777  5.684  5.781  5.640   53252.75  600519"
      ]
     },
     "execution_count": 3,
     "metadata": {},
     "output_type": "execute_result"
    }
   ],
   "source": [
    "# 使用drop函数，删除不需要的列\n",
    "df.drop(labels='Unnamed: 0',axis=1,inplace=True)\n",
    "df.head(3)"
   ]
  },
  {
   "cell_type": "code",
   "execution_count": 4,
   "metadata": {},
   "outputs": [
    {
     "data": {
      "text/plain": [
       "str"
      ]
     },
     "execution_count": 4,
     "metadata": {},
     "output_type": "execute_result"
    }
   ],
   "source": [
    "# 把日期时间从字符串，转换为时间对象，并设置为索引，就是index\n",
    "type(df['date'][0])"
   ]
  },
  {
   "cell_type": "code",
   "execution_count": 5,
   "metadata": {},
   "outputs": [
    {
     "data": {
      "text/html": [
       "<div>\n",
       "<style scoped>\n",
       "    .dataframe tbody tr th:only-of-type {\n",
       "        vertical-align: middle;\n",
       "    }\n",
       "\n",
       "    .dataframe tbody tr th {\n",
       "        vertical-align: top;\n",
       "    }\n",
       "\n",
       "    .dataframe thead th {\n",
       "        text-align: right;\n",
       "    }\n",
       "</style>\n",
       "<table border=\"1\" class=\"dataframe\">\n",
       "  <thead>\n",
       "    <tr style=\"text-align: right;\">\n",
       "      <th></th>\n",
       "      <th>open</th>\n",
       "      <th>close</th>\n",
       "      <th>high</th>\n",
       "      <th>low</th>\n",
       "      <th>使用</th>\n",
       "      <th>code</th>\n",
       "    </tr>\n",
       "    <tr>\n",
       "      <th>date</th>\n",
       "      <th></th>\n",
       "      <th></th>\n",
       "      <th></th>\n",
       "      <th></th>\n",
       "      <th></th>\n",
       "      <th></th>\n",
       "    </tr>\n",
       "  </thead>\n",
       "  <tbody>\n",
       "    <tr>\n",
       "      <th>2001-08-27</th>\n",
       "      <td>5.392</td>\n",
       "      <td>5.554</td>\n",
       "      <td>5.902</td>\n",
       "      <td>5.132</td>\n",
       "      <td>406318.00</td>\n",
       "      <td>600519</td>\n",
       "    </tr>\n",
       "    <tr>\n",
       "      <th>2001-08-28</th>\n",
       "      <td>5.467</td>\n",
       "      <td>5.759</td>\n",
       "      <td>5.781</td>\n",
       "      <td>5.407</td>\n",
       "      <td>129647.79</td>\n",
       "      <td>600519</td>\n",
       "    </tr>\n",
       "    <tr>\n",
       "      <th>2001-08-29</th>\n",
       "      <td>5.777</td>\n",
       "      <td>5.684</td>\n",
       "      <td>5.781</td>\n",
       "      <td>5.640</td>\n",
       "      <td>53252.75</td>\n",
       "      <td>600519</td>\n",
       "    </tr>\n",
       "  </tbody>\n",
       "</table>\n",
       "</div>"
      ],
      "text/plain": [
       "             open  close   high    low         使用    code\n",
       "date                                                     \n",
       "2001-08-27  5.392  5.554  5.902  5.132  406318.00  600519\n",
       "2001-08-28  5.467  5.759  5.781  5.407  129647.79  600519\n",
       "2001-08-29  5.777  5.684  5.781  5.640   53252.75  600519"
      ]
     },
     "execution_count": 5,
     "metadata": {},
     "output_type": "execute_result"
    }
   ],
   "source": [
    "df.index = pd.to_datetime(df['date'])\n",
    "df.drop('date',axis=1,inplace=True)\n",
    "df.head(3)"
   ]
  },
  {
   "cell_type": "code",
   "execution_count": 6,
   "metadata": {},
   "outputs": [
    {
     "data": {
      "text/plain": [
       "pandas._libs.tslibs.timestamps.Timestamp"
      ]
     },
     "execution_count": 6,
     "metadata": {},
     "output_type": "execute_result"
    }
   ],
   "source": [
    "type(df.index[0])"
   ]
  },
  {
   "cell_type": "markdown",
   "metadata": {},
   "source": [
    "### 另一种方法:将date这一列的数据先转成时间类型然后将其作为原数据的行索引\n",
    "- df = pd.read_csv('./maotai.csv',index_col='date',parse_dates=['date'])\n",
    "- df.drop(labels='Unnamed: 0',axis=1,inplace=True)"
   ]
  },
  {
   "cell_type": "markdown",
   "metadata": {},
   "source": [
    "### 2.输出该股票所有收盘比开盘上涨3%以上的日期"
   ]
  },
  {
   "cell_type": "code",
   "execution_count": 7,
   "metadata": {},
   "outputs": [
    {
     "data": {
      "text/plain": [
       "DatetimeIndex(['2001-08-27', '2001-08-28', '2001-09-10', '2001-12-21',\n",
       "               '2002-01-18', '2002-01-31', '2003-01-14', '2003-10-29',\n",
       "               '2004-01-05', '2004-01-14',\n",
       "               ...\n",
       "               '2019-03-01', '2019-03-18', '2019-04-10', '2019-04-16',\n",
       "               '2019-05-10', '2019-05-15', '2019-06-11', '2019-06-20',\n",
       "               '2019-09-12', '2019-09-18'],\n",
       "              dtype='datetime64[ns]', name='date', length=303, freq=None)"
      ]
     },
     "execution_count": 7,
     "metadata": {},
     "output_type": "execute_result"
    }
   ],
   "source": [
    "# 找到（收盘-开盘）/开盘 > 0.03 的行,True:满足需求,false:不满足\n",
    "df.loc[(df['close'] - df['open']) / df['open'] > 0.03].index"
   ]
  },
  {
   "cell_type": "code",
   "execution_count": 6,
   "metadata": {},
   "outputs": [],
   "source": [
    "# 获取了满足需求的日期\n"
   ]
  },
  {
   "cell_type": "markdown",
   "metadata": {},
   "source": [
    "### 3.输出该股票所有开盘比前日收盘跌幅超过2%的日期。\n",
    "-（开盘-前日收盘）/ 前日收盘 < -0.02"
   ]
  },
  {
   "cell_type": "code",
   "execution_count": 8,
   "metadata": {},
   "outputs": [
    {
     "data": {
      "text/plain": [
       "date\n",
       "2001-08-27    False\n",
       "2001-08-28    False\n",
       "2001-08-29    False\n",
       "2001-08-30    False\n",
       "2001-08-31    False\n",
       "              ...  \n",
       "2019-09-11    False\n",
       "2019-09-12    False\n",
       "2019-09-16    False\n",
       "2019-09-17    False\n",
       "2019-09-18    False\n",
       "Length: 4309, dtype: bool"
      ]
     },
     "execution_count": 8,
     "metadata": {},
     "output_type": "execute_result"
    }
   ],
   "source": [
    "# 找到（开盘-前日收盘）/ 前日收盘 < -0.02 的行,True:满足需求,false:不满足\n",
    "(df['open'] - df['close'].shift(1)) / df['close'].shift(1) < -0.02"
   ]
  },
  {
   "cell_type": "code",
   "execution_count": 9,
   "metadata": {},
   "outputs": [
    {
     "data": {
      "text/plain": [
       "DatetimeIndex(['2001-09-12', '2002-06-26', '2002-12-13', '2004-07-01',\n",
       "               '2004-10-29', '2006-08-21', '2006-08-23', '2007-01-25',\n",
       "               '2007-02-01', '2007-02-06', '2007-03-19', '2007-05-21',\n",
       "               '2007-05-30', '2007-06-05', '2007-07-27', '2007-09-05',\n",
       "               '2007-09-10', '2008-03-13', '2008-03-17', '2008-03-25',\n",
       "               '2008-03-27', '2008-04-22', '2008-04-23', '2008-04-29',\n",
       "               '2008-05-13', '2008-06-10', '2008-06-13', '2008-06-24',\n",
       "               '2008-06-27', '2008-08-11', '2008-08-19', '2008-09-23',\n",
       "               '2008-10-10', '2008-10-15', '2008-10-16', '2008-10-20',\n",
       "               '2008-10-23', '2008-10-27', '2008-11-06', '2008-11-12',\n",
       "               '2008-11-20', '2008-11-21', '2008-12-02', '2009-02-27',\n",
       "               '2009-03-25', '2009-08-13', '2010-04-26', '2010-04-30',\n",
       "               '2011-08-05', '2012-03-27', '2012-08-10', '2012-11-22',\n",
       "               '2012-12-04', '2012-12-24', '2013-01-16', '2013-01-25',\n",
       "               '2013-09-02', '2014-04-25', '2015-01-19', '2015-05-25',\n",
       "               '2015-07-03', '2015-07-08', '2015-07-13', '2015-08-24',\n",
       "               '2015-09-02', '2015-09-15', '2017-11-17', '2018-02-06',\n",
       "               '2018-02-09', '2018-03-23', '2018-03-28', '2018-07-11',\n",
       "               '2018-10-11', '2018-10-24', '2018-10-25', '2018-10-29',\n",
       "               '2018-10-30', '2019-05-06', '2019-05-08'],\n",
       "              dtype='datetime64[ns]', name='date', freq=None)"
      ]
     },
     "execution_count": 9,
     "metadata": {},
     "output_type": "execute_result"
    }
   ],
   "source": [
    "# 获取了满足需求的日期\n",
    "df.loc[(df['open'] - df['close'].shift(1)) / df['close'].shift(1) < -0.02].index"
   ]
  },
  {
   "cell_type": "markdown",
   "metadata": {},
   "source": [
    "### 4.计算收益"
   ]
  },
  {
   "cell_type": "markdown",
   "metadata": {},
   "source": [
    "- 假如我从2010年1月1日开始，每月第一个交易日买入1手股票，每年最后一个交易日卖出所有股票，到今天为止，我的收益如何？\n",
    "- 分析：\n",
    "    - 规则：基于开盘价股票的买卖\n",
    "    - 买：一个完整的年需要买12次股票，一次买入100只，一个完整的年需要买入1200只（单价：当天开盘价）\n",
    "    - 卖：一个完整的年需要卖一次股票，一次卖出1200只\n",
    "    - 备注：19年不是一个完整的年，该年只可以买入900只，并且卖不出去"
   ]
  },
  {
   "cell_type": "code",
   "execution_count": 11,
   "metadata": {},
   "outputs": [
    {
     "data": {
      "text/html": [
       "<div>\n",
       "<style scoped>\n",
       "    .dataframe tbody tr th:only-of-type {\n",
       "        vertical-align: middle;\n",
       "    }\n",
       "\n",
       "    .dataframe tbody tr th {\n",
       "        vertical-align: top;\n",
       "    }\n",
       "\n",
       "    .dataframe thead th {\n",
       "        text-align: right;\n",
       "    }\n",
       "</style>\n",
       "<table border=\"1\" class=\"dataframe\">\n",
       "  <thead>\n",
       "    <tr style=\"text-align: right;\">\n",
       "      <th></th>\n",
       "      <th>open</th>\n",
       "      <th>close</th>\n",
       "      <th>high</th>\n",
       "      <th>low</th>\n",
       "      <th>使用</th>\n",
       "      <th>code</th>\n",
       "    </tr>\n",
       "    <tr>\n",
       "      <th>date</th>\n",
       "      <th></th>\n",
       "      <th></th>\n",
       "      <th></th>\n",
       "      <th></th>\n",
       "      <th></th>\n",
       "      <th></th>\n",
       "    </tr>\n",
       "  </thead>\n",
       "  <tbody>\n",
       "    <tr>\n",
       "      <th>2010-01-04</th>\n",
       "      <td>109.760</td>\n",
       "      <td>108.446</td>\n",
       "      <td>109.760</td>\n",
       "      <td>108.044</td>\n",
       "      <td>44304.88</td>\n",
       "      <td>600519</td>\n",
       "    </tr>\n",
       "    <tr>\n",
       "      <th>2010-01-05</th>\n",
       "      <td>109.116</td>\n",
       "      <td>108.127</td>\n",
       "      <td>109.441</td>\n",
       "      <td>107.846</td>\n",
       "      <td>31513.18</td>\n",
       "      <td>600519</td>\n",
       "    </tr>\n",
       "    <tr>\n",
       "      <th>2010-01-06</th>\n",
       "      <td>107.840</td>\n",
       "      <td>106.417</td>\n",
       "      <td>108.165</td>\n",
       "      <td>106.129</td>\n",
       "      <td>39889.03</td>\n",
       "      <td>600519</td>\n",
       "    </tr>\n",
       "  </tbody>\n",
       "</table>\n",
       "</div>"
      ],
      "text/plain": [
       "               open    close     high      low        使用    code\n",
       "date                                                            \n",
       "2010-01-04  109.760  108.446  109.760  108.044  44304.88  600519\n",
       "2010-01-05  109.116  108.127  109.441  107.846  31513.18  600519\n",
       "2010-01-06  107.840  106.417  108.165  106.129  39889.03  600519"
      ]
     },
     "execution_count": 11,
     "metadata": {},
     "output_type": "execute_result"
    }
   ],
   "source": [
    "# 获取对应时间段的股票数据\n",
    "df_new = df['2010':'2019']\n",
    "df_new.head(3)"
   ]
  },
  {
   "cell_type": "code",
   "execution_count": 12,
   "metadata": {},
   "outputs": [
    {
     "data": {
      "text/html": [
       "<div>\n",
       "<style scoped>\n",
       "    .dataframe tbody tr th:only-of-type {\n",
       "        vertical-align: middle;\n",
       "    }\n",
       "\n",
       "    .dataframe tbody tr th {\n",
       "        vertical-align: top;\n",
       "    }\n",
       "\n",
       "    .dataframe thead th {\n",
       "        text-align: right;\n",
       "    }\n",
       "</style>\n",
       "<table border=\"1\" class=\"dataframe\">\n",
       "  <thead>\n",
       "    <tr style=\"text-align: right;\">\n",
       "      <th></th>\n",
       "      <th>open</th>\n",
       "      <th>close</th>\n",
       "      <th>high</th>\n",
       "      <th>low</th>\n",
       "      <th>使用</th>\n",
       "      <th>code</th>\n",
       "    </tr>\n",
       "    <tr>\n",
       "      <th>date</th>\n",
       "      <th></th>\n",
       "      <th></th>\n",
       "      <th></th>\n",
       "      <th></th>\n",
       "      <th></th>\n",
       "      <th></th>\n",
       "    </tr>\n",
       "  </thead>\n",
       "  <tbody>\n",
       "    <tr>\n",
       "      <th>2010-01-31</th>\n",
       "      <td>109.760</td>\n",
       "      <td>108.446</td>\n",
       "      <td>109.760</td>\n",
       "      <td>108.044</td>\n",
       "      <td>44304.88</td>\n",
       "      <td>600519</td>\n",
       "    </tr>\n",
       "    <tr>\n",
       "      <th>2010-02-28</th>\n",
       "      <td>107.769</td>\n",
       "      <td>107.776</td>\n",
       "      <td>108.216</td>\n",
       "      <td>106.576</td>\n",
       "      <td>29655.94</td>\n",
       "      <td>600519</td>\n",
       "    </tr>\n",
       "    <tr>\n",
       "      <th>2010-03-31</th>\n",
       "      <td>106.219</td>\n",
       "      <td>106.085</td>\n",
       "      <td>106.857</td>\n",
       "      <td>105.925</td>\n",
       "      <td>21734.74</td>\n",
       "      <td>600519</td>\n",
       "    </tr>\n",
       "    <tr>\n",
       "      <th>2010-04-30</th>\n",
       "      <td>101.324</td>\n",
       "      <td>102.141</td>\n",
       "      <td>102.422</td>\n",
       "      <td>101.311</td>\n",
       "      <td>23980.83</td>\n",
       "      <td>600519</td>\n",
       "    </tr>\n",
       "    <tr>\n",
       "      <th>2010-05-31</th>\n",
       "      <td>81.676</td>\n",
       "      <td>82.091</td>\n",
       "      <td>82.678</td>\n",
       "      <td>80.974</td>\n",
       "      <td>23975.16</td>\n",
       "      <td>600519</td>\n",
       "    </tr>\n",
       "  </tbody>\n",
       "</table>\n",
       "</div>"
      ],
      "text/plain": [
       "               open    close     high      low        使用    code\n",
       "date                                                            \n",
       "2010-01-31  109.760  108.446  109.760  108.044  44304.88  600519\n",
       "2010-02-28  107.769  107.776  108.216  106.576  29655.94  600519\n",
       "2010-03-31  106.219  106.085  106.857  105.925  21734.74  600519\n",
       "2010-04-30  101.324  102.141  102.422  101.311  23980.83  600519\n",
       "2010-05-31   81.676   82.091   82.678   80.974  23975.16  600519"
      ]
     },
     "execution_count": 12,
     "metadata": {},
     "output_type": "execute_result"
    }
   ],
   "source": [
    "# 数据的重新取样的机制(resample):获取每月第一个交易日股票的数据\n",
    "df_monthly = df_new.resample('M').first()\n",
    "df_monthly.head()"
   ]
  },
  {
   "cell_type": "code",
   "execution_count": 13,
   "metadata": {},
   "outputs": [
    {
     "data": {
      "text/plain": [
       "3453686.0999999996"
      ]
     },
     "execution_count": 13,
     "metadata": {},
     "output_type": "execute_result"
    }
   ],
   "source": [
    "# 计算出买股票一共花了多少钱\n",
    "costs = df_monthly['open'].sum() * 100\n",
    "costs"
   ]
  },
  {
   "cell_type": "code",
   "execution_count": 14,
   "metadata": {},
   "outputs": [
    {
     "data": {
      "text/html": [
       "<div>\n",
       "<style scoped>\n",
       "    .dataframe tbody tr th:only-of-type {\n",
       "        vertical-align: middle;\n",
       "    }\n",
       "\n",
       "    .dataframe tbody tr th {\n",
       "        vertical-align: top;\n",
       "    }\n",
       "\n",
       "    .dataframe thead th {\n",
       "        text-align: right;\n",
       "    }\n",
       "</style>\n",
       "<table border=\"1\" class=\"dataframe\">\n",
       "  <thead>\n",
       "    <tr style=\"text-align: right;\">\n",
       "      <th></th>\n",
       "      <th>open</th>\n",
       "      <th>close</th>\n",
       "      <th>high</th>\n",
       "      <th>low</th>\n",
       "      <th>使用</th>\n",
       "      <th>code</th>\n",
       "    </tr>\n",
       "    <tr>\n",
       "      <th>date</th>\n",
       "      <th></th>\n",
       "      <th></th>\n",
       "      <th></th>\n",
       "      <th></th>\n",
       "      <th></th>\n",
       "      <th></th>\n",
       "    </tr>\n",
       "  </thead>\n",
       "  <tbody>\n",
       "    <tr>\n",
       "      <th>2010-12-31</th>\n",
       "      <td>117.103</td>\n",
       "      <td>118.469</td>\n",
       "      <td>118.701</td>\n",
       "      <td>116.620</td>\n",
       "      <td>46084.0</td>\n",
       "      <td>600519</td>\n",
       "    </tr>\n",
       "    <tr>\n",
       "      <th>2011-12-31</th>\n",
       "      <td>138.039</td>\n",
       "      <td>138.468</td>\n",
       "      <td>139.600</td>\n",
       "      <td>136.105</td>\n",
       "      <td>29460.0</td>\n",
       "      <td>600519</td>\n",
       "    </tr>\n",
       "    <tr>\n",
       "      <th>2012-12-31</th>\n",
       "      <td>155.208</td>\n",
       "      <td>152.087</td>\n",
       "      <td>156.292</td>\n",
       "      <td>150.144</td>\n",
       "      <td>51914.0</td>\n",
       "      <td>600519</td>\n",
       "    </tr>\n",
       "    <tr>\n",
       "      <th>2013-12-31</th>\n",
       "      <td>93.188</td>\n",
       "      <td>96.480</td>\n",
       "      <td>97.179</td>\n",
       "      <td>92.061</td>\n",
       "      <td>57546.0</td>\n",
       "      <td>600519</td>\n",
       "    </tr>\n",
       "    <tr>\n",
       "      <th>2014-12-31</th>\n",
       "      <td>157.642</td>\n",
       "      <td>161.056</td>\n",
       "      <td>161.379</td>\n",
       "      <td>157.132</td>\n",
       "      <td>46269.0</td>\n",
       "      <td>600519</td>\n",
       "    </tr>\n",
       "    <tr>\n",
       "      <th>2015-12-31</th>\n",
       "      <td>207.487</td>\n",
       "      <td>207.458</td>\n",
       "      <td>208.704</td>\n",
       "      <td>207.106</td>\n",
       "      <td>19673.0</td>\n",
       "      <td>600519</td>\n",
       "    </tr>\n",
       "    <tr>\n",
       "      <th>2016-12-31</th>\n",
       "      <td>317.239</td>\n",
       "      <td>324.563</td>\n",
       "      <td>325.670</td>\n",
       "      <td>317.239</td>\n",
       "      <td>34687.0</td>\n",
       "      <td>600519</td>\n",
       "    </tr>\n",
       "    <tr>\n",
       "      <th>2017-12-31</th>\n",
       "      <td>707.948</td>\n",
       "      <td>687.725</td>\n",
       "      <td>716.329</td>\n",
       "      <td>681.918</td>\n",
       "      <td>76038.0</td>\n",
       "      <td>600519</td>\n",
       "    </tr>\n",
       "    <tr>\n",
       "      <th>2018-12-31</th>\n",
       "      <td>563.300</td>\n",
       "      <td>590.010</td>\n",
       "      <td>596.400</td>\n",
       "      <td>560.000</td>\n",
       "      <td>63678.0</td>\n",
       "      <td>600519</td>\n",
       "    </tr>\n",
       "    <tr>\n",
       "      <th>2019-12-31</th>\n",
       "      <td>1108.500</td>\n",
       "      <td>1148.900</td>\n",
       "      <td>1150.000</td>\n",
       "      <td>1108.180</td>\n",
       "      <td>69314.0</td>\n",
       "      <td>600519</td>\n",
       "    </tr>\n",
       "  </tbody>\n",
       "</table>\n",
       "</div>"
      ],
      "text/plain": [
       "                open     close      high       low       使用    code\n",
       "date                                                               \n",
       "2010-12-31   117.103   118.469   118.701   116.620  46084.0  600519\n",
       "2011-12-31   138.039   138.468   139.600   136.105  29460.0  600519\n",
       "2012-12-31   155.208   152.087   156.292   150.144  51914.0  600519\n",
       "2013-12-31    93.188    96.480    97.179    92.061  57546.0  600519\n",
       "2014-12-31   157.642   161.056   161.379   157.132  46269.0  600519\n",
       "2015-12-31   207.487   207.458   208.704   207.106  19673.0  600519\n",
       "2016-12-31   317.239   324.563   325.670   317.239  34687.0  600519\n",
       "2017-12-31   707.948   687.725   716.329   681.918  76038.0  600519\n",
       "2018-12-31   563.300   590.010   596.400   560.000  63678.0  600519\n",
       "2019-12-31  1108.500  1148.900  1150.000  1108.180  69314.0  600519"
      ]
     },
     "execution_count": 14,
     "metadata": {},
     "output_type": "execute_result"
    }
   ],
   "source": [
    "# 计算卖出所有的股票一共进账多少钱\n",
    "# 每年最后一个交易日以开盘价为单价进行卖出\n",
    "df_yearly = df_new.resample('A').last()\n",
    "df_yearly"
   ]
  },
  {
   "cell_type": "code",
   "execution_count": 15,
   "metadata": {},
   "outputs": [
    {
     "data": {
      "text/html": [
       "<div>\n",
       "<style scoped>\n",
       "    .dataframe tbody tr th:only-of-type {\n",
       "        vertical-align: middle;\n",
       "    }\n",
       "\n",
       "    .dataframe tbody tr th {\n",
       "        vertical-align: top;\n",
       "    }\n",
       "\n",
       "    .dataframe thead th {\n",
       "        text-align: right;\n",
       "    }\n",
       "</style>\n",
       "<table border=\"1\" class=\"dataframe\">\n",
       "  <thead>\n",
       "    <tr style=\"text-align: right;\">\n",
       "      <th></th>\n",
       "      <th>open</th>\n",
       "      <th>close</th>\n",
       "      <th>high</th>\n",
       "      <th>low</th>\n",
       "      <th>使用</th>\n",
       "      <th>code</th>\n",
       "    </tr>\n",
       "    <tr>\n",
       "      <th>date</th>\n",
       "      <th></th>\n",
       "      <th></th>\n",
       "      <th></th>\n",
       "      <th></th>\n",
       "      <th></th>\n",
       "      <th></th>\n",
       "    </tr>\n",
       "  </thead>\n",
       "  <tbody>\n",
       "    <tr>\n",
       "      <th>2010-12-31</th>\n",
       "      <td>117.103</td>\n",
       "      <td>118.469</td>\n",
       "      <td>118.701</td>\n",
       "      <td>116.620</td>\n",
       "      <td>46084.0</td>\n",
       "      <td>600519</td>\n",
       "    </tr>\n",
       "    <tr>\n",
       "      <th>2011-12-31</th>\n",
       "      <td>138.039</td>\n",
       "      <td>138.468</td>\n",
       "      <td>139.600</td>\n",
       "      <td>136.105</td>\n",
       "      <td>29460.0</td>\n",
       "      <td>600519</td>\n",
       "    </tr>\n",
       "    <tr>\n",
       "      <th>2012-12-31</th>\n",
       "      <td>155.208</td>\n",
       "      <td>152.087</td>\n",
       "      <td>156.292</td>\n",
       "      <td>150.144</td>\n",
       "      <td>51914.0</td>\n",
       "      <td>600519</td>\n",
       "    </tr>\n",
       "    <tr>\n",
       "      <th>2013-12-31</th>\n",
       "      <td>93.188</td>\n",
       "      <td>96.480</td>\n",
       "      <td>97.179</td>\n",
       "      <td>92.061</td>\n",
       "      <td>57546.0</td>\n",
       "      <td>600519</td>\n",
       "    </tr>\n",
       "    <tr>\n",
       "      <th>2014-12-31</th>\n",
       "      <td>157.642</td>\n",
       "      <td>161.056</td>\n",
       "      <td>161.379</td>\n",
       "      <td>157.132</td>\n",
       "      <td>46269.0</td>\n",
       "      <td>600519</td>\n",
       "    </tr>\n",
       "    <tr>\n",
       "      <th>2015-12-31</th>\n",
       "      <td>207.487</td>\n",
       "      <td>207.458</td>\n",
       "      <td>208.704</td>\n",
       "      <td>207.106</td>\n",
       "      <td>19673.0</td>\n",
       "      <td>600519</td>\n",
       "    </tr>\n",
       "    <tr>\n",
       "      <th>2016-12-31</th>\n",
       "      <td>317.239</td>\n",
       "      <td>324.563</td>\n",
       "      <td>325.670</td>\n",
       "      <td>317.239</td>\n",
       "      <td>34687.0</td>\n",
       "      <td>600519</td>\n",
       "    </tr>\n",
       "    <tr>\n",
       "      <th>2017-12-31</th>\n",
       "      <td>707.948</td>\n",
       "      <td>687.725</td>\n",
       "      <td>716.329</td>\n",
       "      <td>681.918</td>\n",
       "      <td>76038.0</td>\n",
       "      <td>600519</td>\n",
       "    </tr>\n",
       "    <tr>\n",
       "      <th>2018-12-31</th>\n",
       "      <td>563.300</td>\n",
       "      <td>590.010</td>\n",
       "      <td>596.400</td>\n",
       "      <td>560.000</td>\n",
       "      <td>63678.0</td>\n",
       "      <td>600519</td>\n",
       "    </tr>\n",
       "  </tbody>\n",
       "</table>\n",
       "</div>"
      ],
      "text/plain": [
       "               open    close     high      low       使用    code\n",
       "date                                                           \n",
       "2010-12-31  117.103  118.469  118.701  116.620  46084.0  600519\n",
       "2011-12-31  138.039  138.468  139.600  136.105  29460.0  600519\n",
       "2012-12-31  155.208  152.087  156.292  150.144  51914.0  600519\n",
       "2013-12-31   93.188   96.480   97.179   92.061  57546.0  600519\n",
       "2014-12-31  157.642  161.056  161.379  157.132  46269.0  600519\n",
       "2015-12-31  207.487  207.458  208.704  207.106  19673.0  600519\n",
       "2016-12-31  317.239  324.563  325.670  317.239  34687.0  600519\n",
       "2017-12-31  707.948  687.725  716.329  681.918  76038.0  600519\n",
       "2018-12-31  563.300  590.010  596.400  560.000  63678.0  600519"
      ]
     },
     "execution_count": 15,
     "metadata": {},
     "output_type": "execute_result"
    }
   ],
   "source": [
    "# 因为数据没有包括2019年12月，所以去掉2019的最后一个月的数据\n",
    "df_yearly = df_yearly[:-1]\n",
    "df_yearly"
   ]
  },
  {
   "cell_type": "code",
   "execution_count": 16,
   "metadata": {},
   "outputs": [
    {
     "data": {
      "text/plain": [
       "2948584.7999999993"
      ]
     },
     "execution_count": 16,
     "metadata": {},
     "output_type": "execute_result"
    }
   ],
   "source": [
    "# 计算每年最后一个交易日,以开盘价卖出所有股票,获得的收入总额\n",
    "recv_money = df_yearly['open'].sum() * 1200\n",
    "recv_money"
   ]
  },
  {
   "cell_type": "code",
   "execution_count": 17,
   "metadata": {},
   "outputs": [
    {
     "data": {
      "text/plain": [
       "open       1108.50\n",
       "close      1148.90\n",
       "high       1150.00\n",
       "low        1108.18\n",
       "使用        69314.00\n",
       "code     600519.00\n",
       "Name: 2019, dtype: float64"
      ]
     },
     "execution_count": 17,
     "metadata": {},
     "output_type": "execute_result"
    }
   ],
   "source": [
    "# 计算到数据截至日期前，2019年持有的股票的总价值\n",
    "stock_data_2019 = df.groupby(df.index.year).last().iloc[-1]\n",
    "stock_data_2019"
   ]
  },
  {
   "cell_type": "code",
   "execution_count": 19,
   "metadata": {},
   "outputs": [
    {
     "data": {
      "text/plain": [
       "9"
      ]
     },
     "execution_count": 19,
     "metadata": {},
     "output_type": "execute_result"
    }
   ],
   "source": [
    "# 计算2019年有几个月的数据\n",
    "month_count = len(df.loc['2019'].resample('M').sum().index)\n",
    "month_count"
   ]
  },
  {
   "cell_type": "code",
   "execution_count": 20,
   "metadata": {},
   "outputs": [
    {
     "data": {
      "text/plain": [
       "1034010.0000000001"
      ]
     },
     "execution_count": 20,
     "metadata": {},
     "output_type": "execute_result"
    }
   ],
   "source": [
    "# 计算到数据截至日期前，2019年持有的股票的总价值\n",
    "total_val_2019 = stock_data_2019['close'] * 100 * month_count\n",
    "total_val_2019"
   ]
  },
  {
   "cell_type": "code",
   "execution_count": 21,
   "metadata": {},
   "outputs": [
    {
     "data": {
      "text/plain": [
       "528908.6999999997"
      ]
     },
     "execution_count": 21,
     "metadata": {},
     "output_type": "execute_result"
    }
   ],
   "source": [
    "# 计算截至到统计数据最后一天，此人 股票买卖总收益=2010年至2018年卖出股票获得的收益+2019年持有股票的价值-2010至2019购买股票的总花费\n",
    "total_income = total_val_2019 + recv_money - costs\n",
    "total_income"
   ]
  },
  {
   "cell_type": "code",
   "execution_count": null,
   "metadata": {},
   "outputs": [],
   "source": []
  }
 ],
 "metadata": {
  "kernelspec": {
   "display_name": "Python 3",
   "language": "python",
   "name": "python3"
  },
  "language_info": {
   "codemirror_mode": {
    "name": "ipython",
    "version": 3
   },
   "file_extension": ".py",
   "mimetype": "text/x-python",
   "name": "python",
   "nbconvert_exporter": "python",
   "pygments_lexer": "ipython3",
   "version": "3.6.8"
  }
 },
 "nbformat": 4,
 "nbformat_minor": 2
}
