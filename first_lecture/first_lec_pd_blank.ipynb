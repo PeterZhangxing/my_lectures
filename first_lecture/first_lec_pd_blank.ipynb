{
 "cells": [
  {
   "cell_type": "markdown",
   "metadata": {},
   "source": [
    "### 为何要使用pandas来完成数据处理工作：\n",
    "- excel是功能非常强大的表格型数据处理工具，基本可以完成任何的数据处理分析工作，但是要完成稍微复杂的数据分析处理，操作也不简单，也难以对大量具有相同或类似表结构的表格完成批量化处理.\n",
    "- 此外对大量有关联的，却分布在不同excel文件中的表格，要进行连表分析，对于小白来说是非常复杂而痛苦的事情。\n",
    "- Python的pandas库可以很好的帮助我们使用较少的精力，顺利完成excel难以做到，或者实现过程非常复杂的数据分析操作。\n",
    "- 不过相对于excel，pandas的入门曲线稍显陡峭，毕竟要掌握一些基础的编程语法和思维方式，然而一旦入门，你将开启一道通往新世界的大门！\n",
    "\n",
    "#### 因为本课程是针对没有编程基础和经验的同学，我决一开始就讲解示例，通过在示例中穿插基础知识的方式，让大家没那么容易放弃.\n",
    "#### 好的，废话不多说，那就让我们进入到pandas的神奇世界之中："
   ]
  },
  {
   "cell_type": "markdown",
   "metadata": {},
   "source": [
    "### 示例一：股票数据分析\n",
    "- 获取某股票的历史行情数据。\n",
    "- 输出该股票所有收盘比开盘上涨3%以上的日期。\n",
    "- 输出该股票所有开盘比前日收盘跌幅超过2%的日期。\n",
    "- 假如我从2010年1月1日开始，每月第一个交易日买入1手股票，每年最后一个交易日卖出所有股票，到今天为止，我的收益如何？"
   ]
  },
  {
   "cell_type": "code",
   "execution_count": 1,
   "metadata": {},
   "outputs": [],
   "source": [
    "# 导入numpy,pandas库\n",
    "import numpy as np\n",
    "import pandas as pd"
   ]
  },
  {
   "cell_type": "code",
   "execution_count": 2,
   "metadata": {},
   "outputs": [],
   "source": [
    "# 从保存在本地磁盘的csv文件中读取数据\n",
    "\n",
    "# 查看数据格式\n"
   ]
  },
  {
   "cell_type": "markdown",
   "metadata": {},
   "source": [
    "### 1.从读取的原始数据中我们可以看到，有不需要的列'Unnamed: 0'，并且我们很希望把日期'date'这一列作为索引，以便后面的分析"
   ]
  },
  {
   "cell_type": "code",
   "execution_count": 3,
   "metadata": {},
   "outputs": [],
   "source": [
    "# 使用drop函数，删除不需要的列\n"
   ]
  },
  {
   "cell_type": "code",
   "execution_count": 4,
   "metadata": {},
   "outputs": [],
   "source": [
    "# 把日期时间从字符串，转换为时间对象，并设置为索引，就是index\n"
   ]
  },
  {
   "cell_type": "code",
   "execution_count": null,
   "metadata": {},
   "outputs": [],
   "source": []
  },
  {
   "cell_type": "code",
   "execution_count": null,
   "metadata": {},
   "outputs": [],
   "source": []
  },
  {
   "cell_type": "markdown",
   "metadata": {},
   "source": [
    "### 另一种方法:将date这一列的数据先转成时间类型然后将其作为原数据的行索引\n",
    "- df = pd.read_csv('./maotai.csv',index_col='date',parse_dates=['date'])\n",
    "- df.drop(labels='Unnamed: 0',axis=1,inplace=True)"
   ]
  },
  {
   "cell_type": "markdown",
   "metadata": {},
   "source": [
    "### 2.输出该股票所有收盘比开盘上涨3%以上的日期"
   ]
  },
  {
   "cell_type": "code",
   "execution_count": 5,
   "metadata": {},
   "outputs": [],
   "source": [
    "# 找到（收盘-开盘）/开盘 > 0.03 的行,True:满足需求,false:不满足\n"
   ]
  },
  {
   "cell_type": "code",
   "execution_count": 6,
   "metadata": {},
   "outputs": [],
   "source": [
    "# 获取了满足需求的日期\n"
   ]
  },
  {
   "cell_type": "markdown",
   "metadata": {},
   "source": [
    "### 3.输出该股票所有开盘比前日收盘跌幅超过2%的日期。\n",
    "-（开盘-前日收盘）/ 前日收盘 < -0.02"
   ]
  },
  {
   "cell_type": "code",
   "execution_count": 7,
   "metadata": {},
   "outputs": [],
   "source": [
    "# 找到（开盘-前日收盘）/ 前日收盘 < -0.02 的行,True:满足需求,false:不满足\n"
   ]
  },
  {
   "cell_type": "code",
   "execution_count": 8,
   "metadata": {},
   "outputs": [],
   "source": [
    "# 获取了满足需求的日期\n"
   ]
  },
  {
   "cell_type": "markdown",
   "metadata": {},
   "source": [
    "### 4.计算收益"
   ]
  },
  {
   "cell_type": "markdown",
   "metadata": {},
   "source": [
    "- 假如我从2010年1月1日开始，每月第一个交易日买入1手股票，每年最后一个交易日卖出所有股票，到今天为止，我的收益如何？\n",
    "- 分析：\n",
    "    - 规则：基于开盘价股票的买卖\n",
    "    - 买：一个完整的年需要买12次股票，一次买入100只，一个完整的年需要买入1200只（单价：当天开盘价）\n",
    "    - 卖：一个完整的年需要卖一次股票，一次卖出1200只\n",
    "    - 备注：19年不是一个完整的年，该年只可以买入900只，并且卖不出去"
   ]
  },
  {
   "cell_type": "code",
   "execution_count": 9,
   "metadata": {},
   "outputs": [],
   "source": [
    "# 获取对应时间段的股票数据\n"
   ]
  },
  {
   "cell_type": "code",
   "execution_count": 10,
   "metadata": {},
   "outputs": [],
   "source": [
    "# 数据的重新取样的机制(resample):获取每月第一个交易日股票的数据\n"
   ]
  },
  {
   "cell_type": "code",
   "execution_count": 11,
   "metadata": {},
   "outputs": [],
   "source": [
    "# 计算出买股票一共花了多少钱\n"
   ]
  },
  {
   "cell_type": "code",
   "execution_count": 12,
   "metadata": {},
   "outputs": [],
   "source": [
    "# 计算卖出所有的股票一共进账多少钱\n",
    "# 每年最后一个交易日以开盘价为单价进行卖出\n"
   ]
  },
  {
   "cell_type": "code",
   "execution_count": 13,
   "metadata": {},
   "outputs": [],
   "source": [
    "# 因为数据没有包括2019年12月，所以去掉2019的最后一个月的数据\n"
   ]
  },
  {
   "cell_type": "code",
   "execution_count": 14,
   "metadata": {},
   "outputs": [],
   "source": [
    "# 计算每年最后一个交易日,以开盘价卖出所有股票,获得的收入总额\n"
   ]
  },
  {
   "cell_type": "code",
   "execution_count": 15,
   "metadata": {},
   "outputs": [],
   "source": [
    "# 计算到数据截至日期前，2019年持有的股票的总价值\n"
   ]
  },
  {
   "cell_type": "code",
   "execution_count": 16,
   "metadata": {},
   "outputs": [],
   "source": [
    "# 计算2019年有几个月的数据\n"
   ]
  },
  {
   "cell_type": "code",
   "execution_count": 17,
   "metadata": {},
   "outputs": [],
   "source": [
    "# 计算到数据截至日期前，2019年持有的股票的总价值\n"
   ]
  },
  {
   "cell_type": "code",
   "execution_count": 18,
   "metadata": {},
   "outputs": [],
   "source": [
    "# 计算截至到统计数据最后一天，此人 股票买卖总收益=2010年至2018年卖出股票获得的收益+2019年持有股票的价值-2010至2019购买股票的总花费\n"
   ]
  },
  {
   "cell_type": "code",
   "execution_count": null,
   "metadata": {},
   "outputs": [],
   "source": []
  }
 ],
 "metadata": {
  "kernelspec": {
   "display_name": "Python 3",
   "language": "python",
   "name": "python3"
  },
  "language_info": {
   "codemirror_mode": {
    "name": "ipython",
    "version": 3
   },
   "file_extension": ".py",
   "mimetype": "text/x-python",
   "name": "python",
   "nbconvert_exporter": "python",
   "pygments_lexer": "ipython3",
   "version": "3.7.0"
  }
 },
 "nbformat": 4,
 "nbformat_minor": 2
}
